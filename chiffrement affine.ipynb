{
 "cells": [
  {
   "cell_type": "code",
   "execution_count": 1,
   "id": "5265fa00",
   "metadata": {},
   "outputs": [],
   "source": [
    "import math\n",
    "def chiffrement_affine(char, a, b):\n",
    "    pgcd = math.gcd(a, 26)\n",
    "    if pgcd == 1:\n",
    "        c = char.lower();\n",
    "        e = ((ord(c) - 97)*a + b)%26;\n",
    "        return chr(e+97)\n",
    "    else:\n",
    "        return None"
   ]
  },
  {
   "cell_type": "code",
   "execution_count": 2,
   "id": "b663acb4",
   "metadata": {},
   "outputs": [
    {
     "data": {
      "text/plain": [
       "'m'"
      ]
     },
     "execution_count": 2,
     "metadata": {},
     "output_type": "execute_result"
    }
   ],
   "source": [
    "chiffrement_affine('c', 5, 2)"
   ]
  },
  {
   "cell_type": "code",
   "execution_count": 1,
   "id": "772e0698",
   "metadata": {},
   "outputs": [],
   "source": [
    "import math\n",
    "\n",
    "def find_modular_inverse(a):\n",
    "    for i in range(26):\n",
    "        if (i * a) % 26 == 1:\n",
    "            return i\n",
    "    return None\n",
    "\n",
    "def dechiffrement_affine(char, a, b):\n",
    "    pgcd = math.gcd(a, 26)\n",
    "    if pgcd == 1:\n",
    "        a_inverse = find_modular_inverse(a)\n",
    "        if a_inverse is not None:\n",
    "            c = char.lower()\n",
    "            d = ((ord(c) - 97 - b) * a_inverse) % 26\n",
    "            return chr(d + 97)\n",
    "        else:\n",
    "            return None\n",
    "    else:\n",
    "        return None"
   ]
  },
  {
   "cell_type": "code",
   "execution_count": 3,
   "id": "8da1553c",
   "metadata": {},
   "outputs": [
    {
     "data": {
      "text/plain": [
       "'c'"
      ]
     },
     "execution_count": 3,
     "metadata": {},
     "output_type": "execute_result"
    }
   ],
   "source": [
    "dechiffrement_affine('m', 5, 2)"
   ]
  }
 ],
 "metadata": {
  "kernelspec": {
   "display_name": "Python 3 (ipykernel)",
   "language": "python",
   "name": "python3"
  },
  "language_info": {
   "codemirror_mode": {
    "name": "ipython",
    "version": 3
   },
   "file_extension": ".py",
   "mimetype": "text/x-python",
   "name": "python",
   "nbconvert_exporter": "python",
   "pygments_lexer": "ipython3",
   "version": "3.9.13"
  }
 },
 "nbformat": 4,
 "nbformat_minor": 5
}
