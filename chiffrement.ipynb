{
 "cells": [
  {
   "cell_type": "code",
   "execution_count": 58,
   "id": "a9a93417",
   "metadata": {},
   "outputs": [],
   "source": [
    "dict_ = {\"175\": \"rendez-vous\", \"oiseaux\": \"demain\",\n",
    "        \"a_vendre\": \"midi\", \"au_marché\": \"Villetaneuse\"}"
   ]
  },
  {
   "cell_type": "code",
   "execution_count": 51,
   "id": "42568ee8",
   "metadata": {},
   "outputs": [],
   "source": [
    "def chiffrement(text):\n",
    "    text_ch = []\n",
    "    for k,v in dict_.items():\n",
    "            for w in text.split():\n",
    "                if v == w :\n",
    "                    text_ch.append(k)\n",
    "                \n",
    "    return text_ch"
   ]
  },
  {
   "cell_type": "code",
   "execution_count": 59,
   "id": "44638119",
   "metadata": {},
   "outputs": [
    {
     "name": "stdout",
     "output_type": "stream",
     "text": [
      "['175', 'oiseaux', 'a_vendre', 'au_marché']\n"
     ]
    }
   ],
   "source": [
    "print(chiffrement(\"rendez-vous demain midi Villetaneuse\"))"
   ]
  },
  {
   "cell_type": "code",
   "execution_count": 47,
   "id": "a75990c9",
   "metadata": {},
   "outputs": [],
   "source": [
    "def dechiffrement(text):\n",
    "    text_ch = []\n",
    "    for k,v in dict_.items():\n",
    "            for w in text.split():\n",
    "                if k == w :\n",
    "                    text_ch.append(v)\n",
    "                \n",
    "    return text_ch"
   ]
  },
  {
   "cell_type": "code",
   "execution_count": 60,
   "id": "9e0b7aa0",
   "metadata": {},
   "outputs": [
    {
     "name": "stdout",
     "output_type": "stream",
     "text": [
      "['rendez-vous', 'demain', 'midi', 'Villetaneuse']\n"
     ]
    }
   ],
   "source": [
    "print(dechiffrement(\"175 oiseaux a_vendre au_marché\"))"
   ]
  },
  {
   "cell_type": "markdown",
   "id": "822193d1",
   "metadata": {},
   "source": [
    "### Le chiffrement par transposition"
   ]
  },
  {
   "cell_type": "code",
   "execution_count": 142,
   "id": "4ec7924a",
   "metadata": {},
   "outputs": [],
   "source": [
    "import re\n",
    "def transpose_chiffrer(text):\n",
    "    text_chiffrer = []\n",
    "    for w in text:\n",
    "        text_chiffrer.append(re.sub(\"\\s\", \"[]\", w))\n",
    "    t_ch = []\n",
    "    len_msg = len(text_chiffrer)\n",
    "    for i in range(len_msg):\n",
    "        if i % 5 == 0:\n",
    "            t_ch.append(text_chiffrer[i-5])\n",
    "        else:\n",
    "            t_ch.append(text_chiffrer[i])\n",
    "    return t_ch"
   ]
  },
  {
   "cell_type": "code",
   "execution_count": 4,
   "id": "2287811a",
   "metadata": {},
   "outputs": [
    {
     "name": "stdout",
     "output_type": "stream",
     "text": [
      "Encrypted message: reummveeezsaiitunvdidlasdoenilne\n"
     ]
    }
   ],
   "source": [
    "import re\n",
    "\n",
    "def transpose_cipher(text, key):\n",
    "    # Remove spaces from the text\n",
    "    text = re.sub(r'\\s', '', text)\n",
    "\n",
    "    # Calculate the number of columns based on the key\n",
    "    num_columns = key\n",
    "\n",
    "    # Calculate the number of rows (rounding up to ensure all characters are used)\n",
    "    num_rows = -(-len(text) // num_columns)\n",
    "\n",
    "    # Create an empty grid to store the characters\n",
    "    grid = [[' ' for _ in range(num_columns)] for _ in range(num_rows)]\n",
    "\n",
    "    # Fill the grid with characters from the text\n",
    "    for i, char in enumerate(text):\n",
    "        row = i // num_columns\n",
    "        col = i % num_columns\n",
    "        grid[row][col] = char\n",
    "\n",
    "    # Read the grid column-wise to obtain the ciphertext\n",
    "    ciphertext = ''.join(''.join(row) for row in zip(*grid))\n",
    "\n",
    "    return ciphertext\n",
    "\n",
    "# Example usage:\n",
    "message = \"rendez vous demain midi villetaneuse\"\n",
    "key = 4  # You can choose a different key\n",
    "encrypted = transpose_cipher(message, key)\n",
    "print(\"Encrypted message:\", encrypted)"
   ]
  },
  {
   "cell_type": "code",
   "execution_count": 143,
   "id": "935bc178",
   "metadata": {},
   "outputs": [
    {
     "name": "stdout",
     "output_type": "stream",
     "text": [
      "['n', 'e', 'n', 'd', 'e', 'r', '[]', 'v', 'o', 'u', 'z', '[]', 'd', 'e', 'm', 's', 'i', 'n', '[]', 'm', 'a', 'd', 'i', '[]', 'v', 'i', 'l', 'l', 'e', 't', 'i', 'n', 'e', 'u', 's', 'a']\n"
     ]
    }
   ],
   "source": [
    "print(transpose_chiffrer(\"rendez vous demain midi villetaneuse\"))"
   ]
  },
  {
   "cell_type": "code",
   "execution_count": 132,
   "id": "aec54a0a",
   "metadata": {},
   "outputs": [],
   "source": [
    "def transpose_dechiffrer(text):\n",
    "    text_chiffrer = []\n",
    "    for w in text:\n",
    "        text_chiffrer.append(re.sub(\"\\[\\]\", \" \", w))\n",
    "    t_ch = []\n",
    "    len_msg = len(text_chiffrer)\n",
    "    for i in range(len_msg):\n",
    "        if i % 5 == 0:\n",
    "            t_ch.append(text_chiffrer[i])\n",
    "        else:\n",
    "            t_ch.append(text_chiffrer[i])\n",
    "    return t_ch"
   ]
  },
  {
   "cell_type": "code",
   "execution_count": 134,
   "id": "d07da565",
   "metadata": {},
   "outputs": [
    {
     "name": "stdout",
     "output_type": "stream",
     "text": [
      "['n', 'e', 'n', 'd', 'e', 'r', ' ', 'v', 'o', 'u', 'z', ' ', 'd', 'e', 'm', 's', 'i', 'n', ' ', 'm', 'a', 'd', 'i', ' ', 'v', 'i', 'l', 'l', 'e', 't', 'i', 'n', 'e', 'u', 's', 'a']\n"
     ]
    }
   ],
   "source": [
    "print(transpose_dechiffrer(['n', 'e', 'n', 'd', 'e', 'r', '[]', 'v', 'o', 'u', 'z', '[]', 'd', 'e', 'm', 's', 'i', 'n', '[]', 'm', 'a', 'd', 'i', '[]', 'v', 'i', 'l', 'l', 'e', 't', 'i', 'n', 'e', 'u', 's', 'a']))"
   ]
  }
 ],
 "metadata": {
  "kernelspec": {
   "display_name": "Python 3 (ipykernel)",
   "language": "python",
   "name": "python3"
  },
  "language_info": {
   "codemirror_mode": {
    "name": "ipython",
    "version": 3
   },
   "file_extension": ".py",
   "mimetype": "text/x-python",
   "name": "python",
   "nbconvert_exporter": "python",
   "pygments_lexer": "ipython3",
   "version": "3.9.13"
  }
 },
 "nbformat": 4,
 "nbformat_minor": 5
}
