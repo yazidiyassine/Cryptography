{
 "cells": [
  {
   "cell_type": "code",
   "execution_count": 1,
   "id": "fc1b1f54",
   "metadata": {},
   "outputs": [],
   "source": [
    "def chiffrement_vigenere(plain_text, key):\n",
    "    key_length = len(key)\n",
    "    encrypted_text = \"\"\n",
    "    \n",
    "    for i in range(len(plain_text)):\n",
    "        char = plain_text[i]\n",
    "        if char.isalpha():\n",
    "            shift = ord(key[i % key_length].lower()) - 97\n",
    "            if char.isupper():\n",
    "                encrypted_char = chr(((ord(char) - 65 + shift) % 26) + 65)\n",
    "            else:\n",
    "                encrypted_char = chr(((ord(char) - 97 + shift) % 26) + 97)\n",
    "            encrypted_text += encrypted_char\n",
    "        else:\n",
    "            encrypted_text += char\n",
    "    \n",
    "    return encrypted_text"
   ]
  },
  {
   "cell_type": "code",
   "execution_count": 2,
   "id": "e3f228ed",
   "metadata": {},
   "outputs": [],
   "source": [
    "def dechiffrement_vigenere(encrypted_text, key):\n",
    "    key_length = len(key)\n",
    "    decrypted_text = \"\"\n",
    "    \n",
    "    for i in range(len(encrypted_text)):\n",
    "        char = encrypted_text[i]\n",
    "        if char.isalpha():\n",
    "            shift = ord(key[i % key_length].lower()) - 97\n",
    "            if char.isupper():\n",
    "                decrypted_char = chr(((ord(char) - 65 - shift) % 26) + 65)\n",
    "            else:\n",
    "                decrypted_char = chr(((ord(char) - 97 - shift) % 26) + 97)\n",
    "            decrypted_text += decrypted_char\n",
    "        else:\n",
    "            decrypted_text += char\n",
    "    \n",
    "    return decrypted_text"
   ]
  },
  {
   "cell_type": "code",
   "execution_count": 5,
   "id": "7aff2ad4",
   "metadata": {},
   "outputs": [
    {
     "name": "stdout",
     "output_type": "stream",
     "text": [
      "text chiffré: Jppnz, Hstwh!\n",
      "text dechifré: Hello, World!\n"
     ]
    }
   ],
   "source": [
    "# Example usage:\n",
    "plain_text = \"Hello, World!\"\n",
    "key = \"cle\"\n",
    "encrypted_text = chiffrement_vigenere(plain_text, key)\n",
    "print(\"text chiffré:\", encrypted_text)\n",
    "\n",
    "decrypted_text = dechiffrement_vigenere(encrypted_text, key)\n",
    "print(\"text dechifré:\", decrypted_text)"
   ]
  }
 ],
 "metadata": {
  "kernelspec": {
   "display_name": "Python 3 (ipykernel)",
   "language": "python",
   "name": "python3"
  },
  "language_info": {
   "codemirror_mode": {
    "name": "ipython",
    "version": 3
   },
   "file_extension": ".py",
   "mimetype": "text/x-python",
   "name": "python",
   "nbconvert_exporter": "python",
   "pygments_lexer": "ipython3",
   "version": "3.9.13"
  }
 },
 "nbformat": 4,
 "nbformat_minor": 5
}
