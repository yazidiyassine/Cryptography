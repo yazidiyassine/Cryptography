{
 "cells": [
  {
   "cell_type": "markdown",
   "id": "14d9c71c",
   "metadata": {},
   "source": [
    "### L'algorithme d'euclide"
   ]
  },
  {
   "cell_type": "code",
   "execution_count": 2,
   "id": "b2c6f906",
   "metadata": {},
   "outputs": [
    {
     "name": "stdout",
     "output_type": "stream",
     "text": [
      "Le PGCD de 4200 et 10780 est 140\n"
     ]
    }
   ],
   "source": [
    "def euclidean_algorithm(a, b):\n",
    "    try:\n",
    "        while b:\n",
    "            a, b = b, a % b\n",
    "        return a\n",
    "    except ZeroDivisionError:\n",
    "        return a if a != 0 else b\n",
    "\n",
    "num1 = 4200\n",
    "num2 = 10780\n",
    "\n",
    "pgcd = euclidean_algorithm(num1, num2)\n",
    "print(\"Le PGCD de\", num1, \"et\", num2, \"est\", pgcd)\n"
   ]
  },
  {
   "cell_type": "code",
   "execution_count": null,
   "id": "f42d4d83",
   "metadata": {},
   "outputs": [],
   "source": []
  },
  {
   "cell_type": "markdown",
   "id": "31b22d9c",
   "metadata": {},
   "source": [
    "### L'algorithme d'euclide etendu"
   ]
  },
  {
   "cell_type": "code",
   "execution_count": 4,
   "id": "0ff8c7ae",
   "metadata": {},
   "outputs": [
    {
     "name": "stdout",
     "output_type": "stream",
     "text": [
      "Le PGCD de 4200 et 10780 est 140\n",
      "Les coefficients de Bézout x et y sont : x = 18, y = -7\n"
     ]
    }
   ],
   "source": [
    "def algorithme_euclide_etendu(a, b):\n",
    "    # Cas de base : si a est égal à zéro, le PGCD est b, et les coefficients de Bézout sont (0, 1)\n",
    "    if a == 0:\n",
    "        return b, 0, 1\n",
    "    \n",
    "    # Appel récursif avec les nouvelles valeurs de a et b\n",
    "    gcd, x1, y1 = algorithme_euclide_etendu(b % a, a)\n",
    "    \n",
    "    # Calcul des nouveaux coefficients de Bézout x et y\n",
    "    x = y1 - (b // a) * x1\n",
    "    y = x1\n",
    "    \n",
    "    return gcd, x, y\n",
    "\n",
    "# Exemple d'utilisation :\n",
    "num1 = 4200\n",
    "num2 = 10780\n",
    "\n",
    "gcd, x, y = algorithme_euclide_etendu(num1, num2)\n",
    "\n",
    "print(f\"Le PGCD de {num1} et {num2} est {gcd}\")\n",
    "print(f\"Les coefficients de Bézout x et y sont : x = {x}, y = {y}\")\n"
   ]
  }
 ],
 "metadata": {
  "kernelspec": {
   "display_name": "Python 3 (ipykernel)",
   "language": "python",
   "name": "python3"
  },
  "language_info": {
   "codemirror_mode": {
    "name": "ipython",
    "version": 3
   },
   "file_extension": ".py",
   "mimetype": "text/x-python",
   "name": "python",
   "nbconvert_exporter": "python",
   "pygments_lexer": "ipython3",
   "version": "3.9.13"
  }
 },
 "nbformat": 4,
 "nbformat_minor": 5
}
