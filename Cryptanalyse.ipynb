{
 "cells": [
  {
   "cell_type": "code",
   "execution_count": 15,
   "id": "d90074d6",
   "metadata": {},
   "outputs": [
    {
     "data": {
      "text/plain": [
       "25"
      ]
     },
     "execution_count": 15,
     "metadata": {},
     "output_type": "execute_result"
    }
   ],
   "source": [
    "ord('y') - 96"
   ]
  },
  {
   "cell_type": "code",
   "execution_count": 18,
   "id": "3c1250db",
   "metadata": {},
   "outputs": [],
   "source": [
    "from collections import Counter\n",
    "def plus_frequent(message_chiffre):\n",
    "    plus_frequent = Counter(message_chiffre)\n",
    "    p_freq = []\n",
    "    max_ = max(plus_frequent.values())\n",
    "    for k, v in plus_frequent.items():\n",
    "        if v == max_:\n",
    "            p_freq.append(k)\n",
    "    return p_freq"
   ]
  },
  {
   "cell_type": "code",
   "execution_count": 5,
   "id": "53484337",
   "metadata": {},
   "outputs": [
    {
     "data": {
      "text/plain": [
       "'T'"
      ]
     },
     "execution_count": 5,
     "metadata": {},
     "output_type": "execute_result"
    }
   ],
   "source": []
  },
  {
   "cell_type": "code",
   "execution_count": 20,
   "id": "9746a825",
   "metadata": {},
   "outputs": [],
   "source": [
    "def cle(lettre):\n",
    "    plus_frq = plus_frequent(message_chiffre)\n",
    "    return abs((ord(lettre) - (ord(plus_frq[0]))))"
   ]
  },
  {
   "cell_type": "code",
   "execution_count": 21,
   "id": "708d5c14",
   "metadata": {},
   "outputs": [],
   "source": [
    "k = cle('T')"
   ]
  },
  {
   "cell_type": "code",
   "execution_count": 30,
   "id": "1daea188",
   "metadata": {},
   "outputs": [],
   "source": [
    "from collections import Counter\n",
    "\n",
    "def plus_frequent(message_chiffre):\n",
    "    plus_frequent = Counter(message_chiffre)\n",
    "    p_freq = []\n",
    "    max_ = max(plus_frequent.values())\n",
    "    for k, v in plus_frequent.items():\n",
    "        if v == max_:\n",
    "            p_freq.append(k)\n",
    "    return p_freq[0]  # Return the most frequent character\n"
   ]
  },
  {
   "cell_type": "code",
   "execution_count": 39,
   "id": "059a9bcc",
   "metadata": {},
   "outputs": [],
   "source": [
    "ciphertext = \"YN PHEVBFGR RFG HA IVYNVA QRSNHG\""
   ]
  },
  {
   "cell_type": "code",
   "execution_count": 40,
   "id": "3c063f30",
   "metadata": {},
   "outputs": [],
   "source": [
    "def cle(lettre):\n",
    "    most_frequent_char = plus_frequent(ciphertext)\n",
    "    return abs(ord(lettre) - ord(most_frequent_char))"
   ]
  },
  {
   "cell_type": "code",
   "execution_count": 36,
   "id": "53d0e5f0",
   "metadata": {},
   "outputs": [],
   "source": [
    "def decrypt_caesar_cipher(ciphertext, k):\n",
    "    decrypted_text = \"\"\n",
    "\n",
    "    for char in ciphertext:\n",
    "        if char.isalpha():\n",
    "            shift = k % 26\n",
    "            if char.islower():\n",
    "                decrypted_char = chr(((ord(char) - ord('a') - shift) % 26) + ord('a'))\n",
    "            else:\n",
    "                decrypted_char = chr(((ord(char) - ord('A') - shift) % 26) + ord('A'))\n",
    "            decrypted_text += decrypted_char\n",
    "        else:\n",
    "            decrypted_text += char\n",
    "\n",
    "    return decrypted_text"
   ]
  },
  {
   "cell_type": "code",
   "execution_count": 44,
   "id": "44fb79bc",
   "metadata": {},
   "outputs": [
    {
     "name": "stdout",
     "output_type": "stream",
     "text": [
      "Text dechiffre: NC EWTKQUVG GUV WP XKNCKP FGHCWV\n"
     ]
    }
   ],
   "source": [
    "key = cle('E')\n",
    "decrypted_text = decrypt_caesar_cipher(ciphertext, key)\n",
    "\n",
    "print(\"Text dechiffre:\", decrypted_text)"
   ]
  }
 ],
 "metadata": {
  "kernelspec": {
   "display_name": "Python 3 (ipykernel)",
   "language": "python",
   "name": "python3"
  },
  "language_info": {
   "codemirror_mode": {
    "name": "ipython",
    "version": 3
   },
   "file_extension": ".py",
   "mimetype": "text/x-python",
   "name": "python",
   "nbconvert_exporter": "python",
   "pygments_lexer": "ipython3",
   "version": "3.9.13"
  }
 },
 "nbformat": 4,
 "nbformat_minor": 5
}
